{
 "cells": [
  {
   "cell_type": "code",
   "execution_count": null,
   "id": "7163ee6c-1a0c-4340-802c-3379b599b855",
   "metadata": {},
   "outputs": [],
   "source": [
    "%load_ext lab_black"
   ]
  },
  {
   "cell_type": "code",
   "execution_count": null,
   "id": "7e913152-1172-4285-93b6-4d753e2dc727",
   "metadata": {},
   "outputs": [],
   "source": [
    "%matplotlib inline\n",
    "\n",
    "\n",
    "from io import StringIO\n",
    "from plotly.subplots import make_subplots\n",
    "import bocd\n",
    "import matplotlib.pyplot as plt\n",
    "import numpy as np\n",
    "import os\n",
    "import pandas as pd\n",
    "import plotly.graph_objects as go\n",
    "import wget\n",
    "import yfinance as yf\n",
    "import zipfile"
   ]
  },
  {
   "cell_type": "code",
   "execution_count": null,
   "id": "80ef24c6-3fa4-494c-a9eb-33d6a4a19b02",
   "metadata": {},
   "outputs": [],
   "source": [
    "BASE_URL = \"https://data.binance.vision/data/futures/um/monthly/klines/{0}/{1}/\"\n",
    "COLUMNS = [\n",
    "    \"Open_time\",\n",
    "    \"Open\",\n",
    "    \"High\",\n",
    "    \"Low\",\n",
    "    \"Close\",\n",
    "    \"Volume\",\n",
    "    \"Close_time\",\n",
    "    \"Quote_asset_volume\",\n",
    "    \"Number_of_trades\",\n",
    "    \"Taker_buy_base_asset_volume\",\n",
    "    \"Taker_buy_quote_asset_volume\",\n",
    "    \"Ignore\",\n",
    "]"
   ]
  },
  {
   "cell_type": "markdown",
   "id": "c298e454-866e-4ca9-895e-38de18e822c9",
   "metadata": {
    "tags": []
   },
   "source": [
    "### All intervals are supported: 1m, 3m, 5m, 15m, 30m, 1h, 2h, 4h, 6h, 8h, 12h, 1d, 3d, 1w, 1mo"
   ]
  },
  {
   "cell_type": "code",
   "execution_count": null,
   "id": "ea0b9b75-c6a6-4c34-93a5-2b889293c049",
   "metadata": {},
   "outputs": [],
   "source": [
    "def get_tickers(symbol: str, year: int, month: int, interval: str) -> pd.DataFrame:\n",
    "    if not os.path.exists(\"./data\"):\n",
    "        os.mkdir(\"./data\")\n",
    "\n",
    "    filename = \"{0}-{1}-{2}-{3}.zip\".format(symbol, interval, year, str(month).zfill(2))\n",
    "    filepath = \"./data/\" + filename\n",
    "    if not os.path.exists(filepath):\n",
    "        wget.download(\n",
    "            BASE_URL.format(symbol, interval) + filename,\n",
    "            out=filepath,\n",
    "        )\n",
    "\n",
    "    return pd.read_csv(filepath, header=None, names=COLUMNS)"
   ]
  },
  {
   "cell_type": "code",
   "execution_count": null,
   "id": "3cde1fb2-98a9-441b-b7ff-4202f8fb958a",
   "metadata": {},
   "outputs": [],
   "source": [
    "price_df = get_tickers(symbol=\"BTCBUSD\", year=2021, month=4, interval=\"1h\")"
   ]
  },
  {
   "cell_type": "code",
   "execution_count": null,
   "id": "c1e3b960-1365-4988-b718-5f47cc9b913c",
   "metadata": {},
   "outputs": [],
   "source": [
    "signals = price_df[\"Close\"].values\n",
    "dates = price_df[\"Close_time\"].values"
   ]
  },
  {
   "cell_type": "code",
   "execution_count": null,
   "id": "c53c1fde-c14e-414f-93f8-9abdbf2dbd59",
   "metadata": {},
   "outputs": [],
   "source": [
    "# Initialize object\n",
    "bc = bocd.BayesianOnlineChangePointDetection(\n",
    "    bocd.ConstantHazard(300), bocd.StudentT(mu=0, kappa=1, alpha=1, beta=1)\n",
    ")\n",
    "\n",
    "# Online estimation and get the maximum likelihood r_t at each time point\n",
    "rt_mle = np.empty(signals.shape)\n",
    "for i, d in enumerate(signals):\n",
    "    bc.update(d)\n",
    "    rt_mle[i] = bc.rt\n",
    "\n",
    "# Project predictions on price\n",
    "index_changes = np.where(np.diff(rt_mle) < 0)[0]\n",
    "signal_changes = np.array(\n",
    "    [None if i not in index_changes else v for i, v in enumerate(signals)]\n",
    ")"
   ]
  },
  {
   "cell_type": "code",
   "execution_count": null,
   "id": "21f87aae-3555-43ae-ac7a-5fd5ac4e0b6c",
   "metadata": {},
   "outputs": [],
   "source": [
    "####################################\n",
    "#        OHLC Plot with CPD        #\n",
    "####################################\n",
    "candle_fig = make_subplots(\n",
    "    rows=2,\n",
    "    cols=1,\n",
    "    shared_xaxes=True,\n",
    "    vertical_spacing=0.03,\n",
    "    subplot_titles=(\"CPD\", \"OHLC\"),\n",
    ")\n",
    "\n",
    "candle_fig.add_trace(\n",
    "    go.Scatter(x=dates, y=signals, mode=\"lines\", name=\"price\"),\n",
    "    row=1,\n",
    "    col=1,\n",
    ")\n",
    "candle_fig.add_trace(\n",
    "    go.Scatter(x=dates, y=signal_changes, mode=\"markers\", name=\"cp\"),\n",
    "    row=1,\n",
    "    col=1,\n",
    ")\n",
    "\n",
    "candle_fig.add_trace(\n",
    "    go.Candlestick(\n",
    "        x=dates,\n",
    "        open=price_df[\"Open\"],\n",
    "        high=price_df[\"High\"],\n",
    "        low=price_df[\"Low\"],\n",
    "        close=price_df[\"Close\"],\n",
    "        name=\"OHLC\",\n",
    "    ),\n",
    "    row=2,\n",
    "    col=1,\n",
    ")\n",
    "\n",
    "candle_fig.update_layout(\n",
    "    autosize=False,\n",
    "    width=1400,\n",
    "    height=700,\n",
    "    margin=dict(l=10, r=10, b=20, t=40, pad=20),\n",
    "    paper_bgcolor=\"LightSteelBlue\",\n",
    ")\n",
    "candle_fig.show()"
   ]
  }
 ],
 "metadata": {
  "kernelspec": {
   "display_name": "Python 3 (ipykernel)",
   "language": "python",
   "name": "python3"
  },
  "language_info": {
   "codemirror_mode": {
    "name": "ipython",
    "version": 3
   },
   "file_extension": ".py",
   "mimetype": "text/x-python",
   "name": "python",
   "nbconvert_exporter": "python",
   "pygments_lexer": "ipython3",
   "version": "3.8.5"
  }
 },
 "nbformat": 4,
 "nbformat_minor": 5
}
