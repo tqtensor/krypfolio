{
 "cells": [
  {
   "cell_type": "code",
   "execution_count": 1,
   "id": "7163ee6c-1a0c-4340-802c-3379b599b855",
   "metadata": {},
   "outputs": [],
   "source": [
    "%load_ext lab_black"
   ]
  },
  {
   "cell_type": "code",
   "execution_count": 2,
   "id": "7e913152-1172-4285-93b6-4d753e2dc727",
   "metadata": {},
   "outputs": [],
   "source": [
    "%matplotlib inline\n",
    "\n",
    "\n",
    "from io import StringIO\n",
    "from plotly.subplots import make_subplots\n",
    "import bocd\n",
    "import matplotlib.pyplot as plt\n",
    "import numpy as np\n",
    "import os\n",
    "import pandas as pd\n",
    "import plotly.graph_objects as go\n",
    "import requests\n",
    "import time\n",
    "import wget\n",
    "import yfinance as yf\n",
    "import warnings\n",
    "import zipfile\n",
    "\n",
    "warnings.filterwarnings(\"ignore\")"
   ]
  },
  {
   "cell_type": "markdown",
   "id": "e6c4cf1b-0f21-4f48-b2d3-688f06346875",
   "metadata": {},
   "source": [
    "### Latest data"
   ]
  },
  {
   "cell_type": "code",
   "execution_count": 8,
   "id": "d74bd40a-fffc-474f-98ed-eb9a09d199e2",
   "metadata": {},
   "outputs": [],
   "source": [
    "BASE_URL = \"https://fapi.binance.com/fapi/v1/klines?symbol={0}&limit=500&interval={1}\"\n",
    "COLUMNS = [\n",
    "    \"Open_time\",\n",
    "    \"Open\",\n",
    "    \"High\",\n",
    "    \"Low\",\n",
    "    \"Close\",\n",
    "    \"Volume\",\n",
    "    \"Close_time\",\n",
    "    \"Quote_asset_volume\",\n",
    "    \"Number_of_trades\",\n",
    "    \"Taker_buy_base_asset_volume\",\n",
    "    \"Taker_buy_quote_asset_volume\",\n",
    "    \"Ignore\",\n",
    "]"
   ]
  },
  {
   "cell_type": "code",
   "execution_count": 9,
   "id": "b2ded4b2-7d0a-42b5-836e-0d1e549719ad",
   "metadata": {},
   "outputs": [],
   "source": [
    "exchange_info = requests.request(\n",
    "    \"GET\", \"https://fapi.binance.com/fapi/v1/exchangeInfo\", headers={}, data={}\n",
    ")\n",
    "all_pairs = [\n",
    "    s[\"symbol\"]\n",
    "    for s in exchange_info.json()[\"symbols\"]\n",
    "    if (s[\"contractType\"] == \"PERPETUAL\")\n",
    "]"
   ]
  },
  {
   "cell_type": "code",
   "execution_count": 10,
   "id": "da88c975-917b-4dcd-8ab1-c16c05d1133b",
   "metadata": {},
   "outputs": [],
   "source": [
    "def realtime_tickers(symbol: str, interval: str) -> pd.DataFrame:\n",
    "    response = requests.request(\n",
    "        \"GET\", BASE_URL.format(symbol, interval), headers={}, data={}\n",
    "    )\n",
    "\n",
    "    df = pd.DataFrame(response.json(), columns=COLUMNS)\n",
    "    df[[col for col in COLUMNS if \"time\" not in col]] = df[\n",
    "        [col for col in COLUMNS if \"time\" not in col]\n",
    "    ].apply(pd.to_numeric)\n",
    "    df[\"Close_time\"] = pd.to_datetime(df[\"Close_time\"], unit=\"ms\") + pd.Timedelta(\n",
    "        \"07:00:00\"\n",
    "    )\n",
    "    df[\"Open_time\"] = pd.to_datetime(df[\"Open_time\"], unit=\"ms\") + pd.Timedelta(\n",
    "        \"07:00:00\"\n",
    "    )\n",
    "    df.sort_values(by=\"Close_time\", ascending=False, inplace=True)\n",
    "\n",
    "    return df"
   ]
  },
  {
   "cell_type": "code",
   "execution_count": 11,
   "id": "421f577a-ebdd-4f69-ace2-f21274de1a88",
   "metadata": {},
   "outputs": [
    {
     "name": "stdout",
     "output_type": "stream",
     "text": [
      "--------------------- BTCUSDT ---------------------\n",
      "Possible entry: 2021-07-31 13:15:00 2021-07-31 13:29:59.999000 supported by 1h signals\n",
      "Possible entry: 2021-07-31 13:00:00 2021-07-31 13:14:59.999000 supported by 1h signals\n",
      "Possible entry: 2021-07-31 10:45:00 2021-07-31 10:59:59.999000 supported by 1h signals\n",
      "--------------------- ETHUSDT ---------------------\n",
      "Possible entry: 2021-07-29 18:15:00 2021-07-29 18:29:59.999000 supported by 1h signals\n",
      "Possible entry: 2021-07-29 15:00:00 2021-07-29 15:14:59.999000 supported by 1h signals\n",
      "Possible entry: 2021-07-29 07:45:00 2021-07-29 07:59:59.999000 supported by 1h signals\n",
      "--------------------- BCHUSDT ---------------------\n",
      "Possible entry: 2021-07-31 10:45:00 2021-07-31 10:59:59.999000 supported by 1h signals\n",
      "Possible entry: 2021-07-31 10:00:00 2021-07-31 10:14:59.999000 supported by 1h signals\n",
      "Possible entry: 2021-07-30 14:45:00 2021-07-30 14:59:59.999000 supported by 1h signals\n",
      "--------------------- LTCUSDT ---------------------\n",
      "Possible entry: 2021-07-27 11:45:00 2021-07-27 11:59:59.999000 supported by 1h signals\n",
      "--------------------- XMRUSDT ---------------------\n",
      "Possible entry: 2021-07-28 00:45:00 2021-07-28 00:59:59.999000 supported by 1h signals\n",
      "Possible entry: 2021-07-28 00:30:00 2021-07-28 00:44:59.999000 supported by 1h signals\n",
      "Possible entry: 2021-07-27 16:45:00 2021-07-27 16:59:59.999000 supported by 4h signals\n",
      "--------------------- DASHUSDT ---------------------\n",
      "Possible entry: 2021-07-29 19:45:00 2021-07-29 19:59:59.999000 supported by 1h signals\n",
      "--------------------- COMPUSDT ---------------------\n",
      "Possible entry: 2021-07-30 15:00:00 2021-07-30 15:14:59.999000 supported by 1h signals\n",
      "Possible entry: 2021-07-29 10:00:00 2021-07-29 10:14:59.999000 supported by 1h and 4h signals\n",
      "Possible entry: 2021-07-29 06:30:00 2021-07-29 06:44:59.999000 supported by 1h signals\n",
      "--------------------- MKRUSDT ---------------------\n",
      "Possible entry: 2021-07-31 12:00:00 2021-07-31 12:14:59.999000 supported by 1h signals\n",
      "Possible entry: 2021-07-30 22:00:00 2021-07-30 22:14:59.999000 supported by 1h signals\n",
      "Possible entry: 2021-07-29 18:30:00 2021-07-29 18:44:59.999000 supported by 1h signals\n",
      "--------------------- DEFIUSDT ---------------------\n",
      "Possible entry: 2021-07-31 00:00:00 2021-07-31 00:14:59.999000 supported by 1h signals\n",
      "Possible entry: 2021-07-30 22:15:00 2021-07-30 22:29:59.999000 supported by 1h signals\n",
      "Possible entry: 2021-07-30 21:00:00 2021-07-30 21:14:59.999000 supported by 1h signals\n",
      "--------------------- YFIUSDT ---------------------\n",
      "Possible entry: 2021-07-31 10:45:00 2021-07-31 10:59:59.999000 supported by 1h signals\n",
      "Possible entry: 2021-07-31 10:00:00 2021-07-31 10:14:59.999000 supported by 1h signals\n",
      "Possible entry: 2021-07-30 23:45:00 2021-07-30 23:59:59.999000 supported by 1h signals\n",
      "--------------------- YFIIUSDT ---------------------\n",
      "Possible entry: 2021-07-31 12:45:00 2021-07-31 12:59:59.999000 supported by 1h signals\n",
      "Possible entry: 2021-07-31 12:30:00 2021-07-31 12:44:59.999000 supported by 1h signals\n",
      "Possible entry: 2021-07-31 02:45:00 2021-07-31 02:59:59.999000 supported by 1h and 4h signals\n",
      "--------------------- AAVEUSDT ---------------------\n",
      "Possible entry: 2021-07-27 07:45:00 2021-07-27 07:59:59.999000 supported by 1h signals\n",
      "--------------------- AXSUSDT ---------------------\n",
      "Possible entry: 2021-07-27 12:00:00 2021-07-27 12:14:59.999000 supported by 1h signals\n",
      "--------------------- BTCBUSD ---------------------\n",
      "Possible entry: 2021-07-31 13:15:00 2021-07-31 13:29:59.999000 supported by 1h signals\n",
      "Possible entry: 2021-07-31 13:00:00 2021-07-31 13:14:59.999000 supported by 1h signals\n",
      "Possible entry: 2021-07-31 10:45:00 2021-07-31 10:59:59.999000 supported by 1h signals\n",
      "--------------------- ETHBUSD ---------------------\n",
      "Possible entry: 2021-07-29 07:45:00 2021-07-29 07:59:59.999000 supported by 1h signals\n",
      "Possible entry: 2021-07-29 07:30:00 2021-07-29 07:44:59.999000 supported by 1h signals\n",
      "Possible entry: 2021-07-29 06:30:00 2021-07-29 06:44:59.999000 supported by 4h signals\n",
      "--------------------- BTCDOMUSDT ---------------------\n",
      "Possible entry: 2021-07-31 16:30:00 2021-07-31 16:44:59.999000 supported by 1h signals\n",
      "Possible entry: 2021-07-30 07:45:00 2021-07-30 07:59:59.999000 supported by 1h signals\n",
      "Possible entry: 2021-07-29 20:15:00 2021-07-29 20:29:59.999000 supported by 1h signals\n"
     ]
    }
   ],
   "source": [
    "for symbol in all_pairs:\n",
    "    cpd = dict()\n",
    "    intervals = [\"15m\", \"1h\", \"4h\", \"1d\", \"3d\"]\n",
    "    for interval in intervals:\n",
    "        df = realtime_tickers(symbol=symbol, interval=interval)\n",
    "\n",
    "        bc = bocd.BayesianOnlineChangePointDetection(\n",
    "            bocd.ConstantHazard(300), bocd.StudentT(mu=0, kappa=1, alpha=1, beta=1)\n",
    "        )\n",
    "\n",
    "        rt_mle = np.empty(df[\"Close\"].values.shape)\n",
    "        for i, d in enumerate(df[\"Close\"].values):\n",
    "            bc.update(d)\n",
    "            rt_mle[i] = bc.rt\n",
    "\n",
    "        cpd[interval] = df.iloc[np.where(np.diff(rt_mle) < 0)][\n",
    "            [\"Open_time\", \"Close_time\"]\n",
    "        ]\n",
    "\n",
    "    supports = list()\n",
    "    for _, row in cpd[\"15m\"].iterrows():\n",
    "        matches = list()\n",
    "        for interval in [\"1h\", \"4h\", \"1d\", \"3d\"]:\n",
    "            match = cpd[interval].loc[\n",
    "                (cpd[interval][\"Open_time\"] <= row[\"Open_time\"])\n",
    "                & (cpd[interval][\"Close_time\"] >= row[\"Close_time\"])\n",
    "            ]\n",
    "            if not match.empty:\n",
    "                matches.append(interval)\n",
    "        if len(matches) > 0:\n",
    "            supports.append((row, matches))\n",
    "\n",
    "    chances = [s for s in supports if len(s[1]) >= 1][:3]\n",
    "    if len(chances) > 0:\n",
    "        print(\"---------------------\", symbol, \"---------------------\")\n",
    "        for ch in chances:\n",
    "            print(\n",
    "                \"Possible entry:\",\n",
    "                ch[0][\"Open_time\"],\n",
    "                ch[0][\"Close_time\"],\n",
    "                \"supported by\",\n",
    "                \" and \".join(ch[1]),\n",
    "                \"signals\",\n",
    "            )"
   ]
  },
  {
   "cell_type": "markdown",
   "id": "c298e454-866e-4ca9-895e-38de18e822c9",
   "metadata": {
    "jp-MarkdownHeadingCollapsed": true,
    "tags": []
   },
   "source": [
    "### Backtest\n",
    "#### All intervals are supported: 1m, 3m, 5m, 15m, 30m, 1h, 2h, 4h, 6h, 8h, 12h, 1d, 3d, 1w, 1mo"
   ]
  },
  {
   "cell_type": "code",
   "execution_count": null,
   "id": "80ef24c6-3fa4-494c-a9eb-33d6a4a19b02",
   "metadata": {},
   "outputs": [],
   "source": [
    "BASE_URL = \"https://data.binance.vision/data/spot/monthly/klines/{0}/{1}/\"\n",
    "COLUMNS = [\n",
    "    \"Open_time\",\n",
    "    \"Open\",\n",
    "    \"High\",\n",
    "    \"Low\",\n",
    "    \"Close\",\n",
    "    \"Volume\",\n",
    "    \"Close_time\",\n",
    "    \"Quote_asset_volume\",\n",
    "    \"Number_of_trades\",\n",
    "    \"Taker_buy_base_asset_volume\",\n",
    "    \"Taker_buy_quote_asset_volume\",\n",
    "    \"Ignore\",\n",
    "]"
   ]
  },
  {
   "cell_type": "code",
   "execution_count": null,
   "id": "ea0b9b75-c6a6-4c34-93a5-2b889293c049",
   "metadata": {},
   "outputs": [],
   "source": [
    "def get_tickers(symbol: str, year: int, month: int, interval: str) -> pd.DataFrame:\n",
    "    if not os.path.exists(\"./data\"):\n",
    "        os.mkdir(\"./data\")\n",
    "\n",
    "    filename = \"{0}-{1}-{2}-{3}.zip\".format(symbol, interval, year, str(month).zfill(2))\n",
    "    filepath = \"./data/\" + filename\n",
    "    if not os.path.exists(filepath):\n",
    "        wget.download(\n",
    "            BASE_URL.format(symbol, interval) + filename,\n",
    "            out=filepath,\n",
    "        )\n",
    "\n",
    "    df = pd.read_csv(filepath, header=None, names=COLUMNS)\n",
    "    df[\"Close_time\"] = pd.to_datetime(df[\"Close_time\"], unit=\"ms\")\n",
    "    df[\"Open_time\"] = pd.to_datetime(df[\"Open_time\"], unit=\"ms\")\n",
    "\n",
    "    return df"
   ]
  },
  {
   "cell_type": "markdown",
   "id": "24a2d3cd-26c9-4c4e-b85e-22eeb06944c0",
   "metadata": {},
   "source": [
    "#### Scan multiple timeframe"
   ]
  },
  {
   "cell_type": "code",
   "execution_count": null,
   "id": "3cde1fb2-98a9-441b-b7ff-4202f8fb958a",
   "metadata": {},
   "outputs": [],
   "source": [
    "cpd = dict()\n",
    "for interval in [\"1h\", \"4h\", \"1d\"]:\n",
    "    df = get_tickers(symbol=\"ETHUSDT\", year=2021, month=5, interval=interval)\n",
    "\n",
    "    bc = bocd.BayesianOnlineChangePointDetection(\n",
    "        bocd.ConstantHazard(300), bocd.StudentT(mu=0, kappa=1, alpha=1, beta=1)\n",
    "    )\n",
    "\n",
    "    rt_mle = np.empty(df[\"Close\"].values.shape)\n",
    "    for i, d in enumerate(df[\"Close\"].values):\n",
    "        bc.update(d)\n",
    "        rt_mle[i] = bc.rt\n",
    "\n",
    "    cpd[interval] = df.iloc[np.where(np.diff(rt_mle) < 0)][[\"Open_time\", \"Close_time\"]]"
   ]
  },
  {
   "cell_type": "code",
   "execution_count": null,
   "id": "6e557f4a-2bf9-4b8c-8a88-50ef6435d4f7",
   "metadata": {},
   "outputs": [],
   "source": [
    "supports = list()\n",
    "for _, row in cpd[\"1h\"].iterrows():\n",
    "    matches = list()\n",
    "    for interval in [\"4h\", \"1d\"]:\n",
    "        match = cpd[interval].loc[\n",
    "            (cpd[interval][\"Open_time\"] <= row[\"Open_time\"])\n",
    "            & (cpd[interval][\"Close_time\"] >= row[\"Close_time\"])\n",
    "        ]\n",
    "        if not match.empty:\n",
    "            matches.append(interval)\n",
    "    if len(matches) > 0:\n",
    "        supports.append((row, matches))"
   ]
  },
  {
   "cell_type": "code",
   "execution_count": null,
   "id": "01031770-91da-47c7-8daf-f4b09766b9c9",
   "metadata": {
    "tags": []
   },
   "outputs": [],
   "source": [
    "[s for s in supports if len(s[1]) >= 1]"
   ]
  },
  {
   "cell_type": "markdown",
   "id": "ed4308b3-7c44-42b3-876b-a340a2fd9365",
   "metadata": {
    "jp-MarkdownHeadingCollapsed": true,
    "tags": []
   },
   "source": [
    "### OHLC plot"
   ]
  },
  {
   "cell_type": "code",
   "execution_count": null,
   "id": "28eac552-3e52-4df4-bab7-9ca169ba3eef",
   "metadata": {},
   "outputs": [],
   "source": [
    "price_df = get_tickers(symbol=\"ETHUSDT\", year=2021, month=5, interval=\"1h\")"
   ]
  },
  {
   "cell_type": "code",
   "execution_count": null,
   "id": "c1e3b960-1365-4988-b718-5f47cc9b913c",
   "metadata": {},
   "outputs": [],
   "source": [
    "signals = price_df[\"Close\"].values\n",
    "dates = price_df[\"Close_time\"].values"
   ]
  },
  {
   "cell_type": "code",
   "execution_count": null,
   "id": "c53c1fde-c14e-414f-93f8-9abdbf2dbd59",
   "metadata": {},
   "outputs": [],
   "source": [
    "# Initialize object\n",
    "bc = bocd.BayesianOnlineChangePointDetection(\n",
    "    bocd.ConstantHazard(300), bocd.StudentT(mu=0, kappa=1, alpha=1, beta=1)\n",
    ")\n",
    "\n",
    "# Online estimation and get the maximum likelihood r_t at each time point\n",
    "rt_mle = np.empty(signals.shape)\n",
    "for i, d in enumerate(signals):\n",
    "    bc.update(d)\n",
    "    rt_mle[i] = bc.rt\n",
    "\n",
    "# Project predictions on price\n",
    "index_changes = np.where(np.diff(rt_mle) < 0)[0]\n",
    "signal_changes = np.array(\n",
    "    [None if i not in index_changes else v for i, v in enumerate(signals)]\n",
    ")"
   ]
  },
  {
   "cell_type": "code",
   "execution_count": null,
   "id": "21f87aae-3555-43ae-ac7a-5fd5ac4e0b6c",
   "metadata": {},
   "outputs": [],
   "source": [
    "####################################\n",
    "#        OHLC Plot with CPD        #\n",
    "####################################\n",
    "candle_fig = make_subplots(\n",
    "    rows=2,\n",
    "    cols=1,\n",
    "    shared_xaxes=True,\n",
    "    vertical_spacing=0.03,\n",
    "    subplot_titles=(\"CPD\", \"OHLC\"),\n",
    ")\n",
    "\n",
    "candle_fig.add_trace(\n",
    "    go.Scatter(x=dates, y=signals, mode=\"lines\", name=\"price\"),\n",
    "    row=1,\n",
    "    col=1,\n",
    ")\n",
    "candle_fig.add_trace(\n",
    "    go.Scatter(x=dates, y=signal_changes, mode=\"markers\", name=\"cp\"),\n",
    "    row=1,\n",
    "    col=1,\n",
    ")\n",
    "\n",
    "candle_fig.add_trace(\n",
    "    go.Candlestick(\n",
    "        x=dates,\n",
    "        open=price_df[\"Open\"],\n",
    "        high=price_df[\"High\"],\n",
    "        low=price_df[\"Low\"],\n",
    "        close=price_df[\"Close\"],\n",
    "        name=\"OHLC\",\n",
    "    ),\n",
    "    row=2,\n",
    "    col=1,\n",
    ")\n",
    "\n",
    "candle_fig.update_layout(\n",
    "    autosize=False,\n",
    "    width=1400,\n",
    "    height=700,\n",
    "    margin=dict(l=10, r=10, b=20, t=40, pad=20),\n",
    "    paper_bgcolor=\"LightSteelBlue\",\n",
    ")\n",
    "candle_fig.show()"
   ]
  },
  {
   "cell_type": "code",
   "execution_count": null,
   "id": "a772e409-403a-4910-8877-1b0656be36cc",
   "metadata": {},
   "outputs": [],
   "source": []
  }
 ],
 "metadata": {
  "kernelspec": {
   "display_name": "Python 3 (ipykernel)",
   "language": "python",
   "name": "python3"
  },
  "language_info": {
   "codemirror_mode": {
    "name": "ipython",
    "version": 3
   },
   "file_extension": ".py",
   "mimetype": "text/x-python",
   "name": "python",
   "nbconvert_exporter": "python",
   "pygments_lexer": "ipython3",
   "version": "3.8.5"
  }
 },
 "nbformat": 4,
 "nbformat_minor": 5
}
